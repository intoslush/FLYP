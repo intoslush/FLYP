{
 "cells": [
  {
   "cell_type": "code",
   "execution_count": null,
   "metadata": {},
   "outputs": [],
   "source": [
    "import subprocess\n",
    "import requests\n",
    "import zipfile\n",
    "import os\n",
    "import shutil\n",
    "import numpy as np\n",
    "def download_file(url, output_path):\n",
    "    response = requests.get(url, stream=True)\n",
    "    with open(output_path, 'wb') as file:\n",
    "        for chunk in response.iter_content(chunk_size=8192):\n",
    "            file.write(chunk)\n",
    "    print(f\"Downloaded {output_path}\")\n",
    "\n",
    "def unzip_file(zip_path, extract_to):\n",
    "    with zipfile.ZipFile(zip_path, 'r') as zip_ref:\n",
    "        zip_ref.extractall(extract_to)\n",
    "    print(f\"Extracted {zip_path} to {extract_to}\")\n",
    "def execute_command(command):\n",
    "    result = subprocess.run(command, shell=True, capture_output=True, text=True)\n",
    "    return result.stdout, result.stderr\n"
   ]
  },
  {
   "cell_type": "code",
   "execution_count": null,
   "metadata": {},
   "outputs": [],
   "source": [
    "# 比赛相关的数据集\n",
    "print(\"开始下载数据\")\n",
    "data_dir = \"compition/\"\n",
    "if not os.path.exists(data_dir):\n",
    "    os.makedirs(data_dir)\n",
    "\n",
    "files_to_download = [\n",
    "    {\"url\": \"https://cloud.tsinghua.edu.cn/f/212edd1e7b3b44f5b301/?dl=1\", \"output\": os.path.join(data_dir, \"train.txt\")},\n",
    "    {\"url\": \"https://cloud.tsinghua.edu.cn/f/418b311c5ae8484f8208/?dl=1\", \"output\": os.path.join(data_dir, \"classname.txt\")},\n",
    "    {\"url\": \"https://cloud.tsinghua.edu.cn/f/7c44b138a6344f4b8fd1/?dl=1\", \"output\": os.path.join(data_dir, \"TrainSet.zip\")},\n",
    "    {\"url\": \"https://cloud.tsinghua.edu.cn/f/c00ca0f3f27340899a05/?dl=1\", \"output\": os.path.join(data_dir, \"TestSetA.zip\")},\n",
    "    {\"url\": \"https://github.com/uyzhang/JCLIP/releases/download/%E6%9D%83%E9%87%8D/ViT-B-32.pkl\", \"output\": os.path.join(data_dir, \"ViT-B-32.pkl\")}\n",
    "]\n",
    "\n",
    "for file_info in files_to_download:\n",
    "    download_file(file_info[\"url\"], file_info[\"output\"])\n",
    "    \n",
    "    # If the downloaded file is a zip file, extract it and delete the zip file\n",
    "    if file_info[\"output\"].endswith(\".zip\"):\n",
    "        unzip_file(file_info[\"output\"], data_dir)\n",
    "        os.remove(file_info[\"output\"])\n",
    "        print(f\"Deleted {file_info['output']}\")"
   ]
  },
  {
   "cell_type": "code",
   "execution_count": null,
   "metadata": {},
   "outputs": [],
   "source": [
    "# caltech数据集\n"
   ]
  },
  {
   "cell_type": "code",
   "execution_count": null,
   "metadata": {},
   "outputs": [],
   "source": [
    "data_path = \"./compitition/TrainSet\"\n",
    "data_set_name='compitition'\n",
    "\n"
   ]
  },
  {
   "cell_type": "code",
   "execution_count": null,
   "metadata": {},
   "outputs": [],
   "source": [
    "folders = ['train', 'val', 'test']\n",
    "# 获取当前工作目录\n",
    "current_dir = os.path.join(os.getcwd(), data_set_name)\n",
    "\n",
    "# 遍历文件夹列表\n",
    "for folder in folders:\n",
    "    # 构建文件夹的完整路径\n",
    "    folder_path = os.path.join(current_dir, folder)\n",
    "    \n",
    "    # 检查文件夹是否存在\n",
    "    if not os.path.exists(folder_path):\n",
    "        # 如果文件夹不存在，则创建它\n",
    "        os.makedirs(folder_path)\n",
    "        print(f\"创建了文件夹: {folder}\")\n",
    "    else:\n",
    "        print(f\"文件夹已存在: {folder}\")\n"
   ]
  },
  {
   "cell_type": "code",
   "execution_count": 4,
   "metadata": {},
   "outputs": [
    {
     "data": {
      "text/plain": [
       "'Caltech-101/rhino'"
      ]
     },
     "execution_count": 4,
     "metadata": {},
     "output_type": "execute_result"
    }
   ],
   "source": [
    "\n",
    "categories = []\n",
    "for i in os.listdir(data_path):\n",
    "    path=os.path.join(data_path,i)\n",
    "    categories +=[i+\"/\"+j for j in os.listdir(path)]\n",
    "len(categories) \n",
    "categories[0]\n"
   ]
  },
  {
   "cell_type": "code",
   "execution_count": null,
   "metadata": {},
   "outputs": [],
   "source": []
  },
  {
   "cell_type": "code",
   "execution_count": 5,
   "metadata": {},
   "outputs": [],
   "source": [
    "import  random\n",
    "for p in categories:\n",
    "    cat=p.split('/')[1]\n",
    "    fig_out=p.split('/')[0]\n",
    "    # print(cat)\n",
    "    # print(current_dir)\n",
    "    cat=cat+\"&\"+fig_out\n",
    "    os.mkdir(os.path.join(current_dir,\"train/\", cat))\n",
    "    os.mkdir(os.path.join(current_dir,\"val/\", cat))\n",
    "    os.mkdir(os.path.join(current_dir,\"test/\", cat))\n",
    "    \n",
    "    image_files = os.listdir(os.path.join(data_path, p))\n",
    "    random.shuffle(image_files)\n",
    "    choices = np.random.choice([0, 1, 2], size=(len(image_files),), p=[.4, 0.3, 0.3])\n",
    "    count,count2,count3=0,0,0\n",
    "    for (i,_f) in enumerate(image_files):\n",
    "        # print(i,_f)\n",
    "        # break \n",
    "        if choices[i]==0:\n",
    "            if count<4:\n",
    "                dest_path = os.path.join(current_dir,\"train/\", cat, _f)\n",
    "                count+=1\n",
    "        if choices[i]==1 and count2<16:\n",
    "            dest_path = os.path.join(current_dir,\"val/\", cat, _f)\n",
    "            count2+=1\n",
    "        if choices[i]==2 and count3<16:\n",
    "            dest_path = os.path.join(current_dir,\"test/\", cat, _f)\n",
    "            count3+=1\n",
    "        # print(data_path,\"\\n\",p,'\\n',_f)\n",
    "        origin_path = os.path.join(data_path, p,  _f)\n",
    "        # break\n",
    "        # print(\"origin_path \",origin_path )\n",
    "        shutil.copy(origin_path, dest_path)\n",
    "        # break\n",
    "    # break"
   ]
  },
  {
   "cell_type": "code",
   "execution_count": null,
   "metadata": {},
   "outputs": [],
   "source": [
    "\n"
   ]
  }
 ],
 "metadata": {
  "kernelspec": {
   "display_name": "flyp",
   "language": "python",
   "name": "python3"
  },
  "language_info": {
   "codemirror_mode": {
    "name": "ipython",
    "version": 3
   },
   "file_extension": ".py",
   "mimetype": "text/x-python",
   "name": "python",
   "nbconvert_exporter": "python",
   "pygments_lexer": "ipython3",
   "version": "3.10.11"
  }
 },
 "nbformat": 4,
 "nbformat_minor": 2
}
